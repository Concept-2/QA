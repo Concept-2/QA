{
 "cells": [
  {
   "cell_type": "code",
   "execution_count": 61,
   "metadata": {},
   "outputs": [],
   "source": [
    "from selenium import webdriver\n",
    "from selenium.webdriver.common.keys import Keys\n",
    "import time\n",
    "\n",
    "driver = webdriver.Chrome()\n",
    "driver.get(\"http://the-internet.herokuapp.com/challenging_dom\")\n",
    "\n",
    "def highlight(element, seconds):\n",
    "    driver = element._parent\n",
    "    def apply_style(s):\n",
    "        driver.execute_script(\"arguments[0].setAttribute('style', arguments[1]);\",element, s)\n",
    "    original_style = element.get_attribute('style')\n",
    "    apply_style(\"background: yellow; border: 2px solid red;\")\n",
    "    time.sleep(seconds)\n",
    "    apply_style(original_style)"
   ]
  },
  {
   "cell_type": "code",
   "execution_count": 64,
   "metadata": {},
   "outputs": [],
   "source": [
    "#Approach #1, Full XPath\n",
    "driver = webdriver.Chrome()\n",
    "driver.get(\"http://the-internet.herokuapp.com/challenging_dom\")\n",
    "\n",
    "task1 = driver.find_element_by_xpath(\"/html/body/div[2]/div/div/div/div/div[2]/table/tbody/tr[3]/td[6]\")\n",
    "highlight(task1, 2)"
   ]
  },
  {
   "cell_type": "code",
   "execution_count": 66,
   "metadata": {},
   "outputs": [],
   "source": [
    "#Approach #2.1, Table Xpath + link text\n",
    "driver = webdriver.Chrome()\n",
    "driver.get(\"http://the-internet.herokuapp.com/challenging_dom\")\n",
    "\n",
    "html_table = driver.find_element_by_xpath(\"/html/body/div[2]/div/div/div/div/div[2]/table/tbody\")\n",
    "rows_table = html_table.find_elements_by_tag_name(\"tr\")\n",
    "\n",
    "for i in rows_table:\n",
    "    if 'Apeirian7' in i.text:\n",
    "        delete_button = i.find_element_by_link_text('delete')\n",
    "        highlight(delete_button, 2)\n",
    "\n",
    "#Approach #2.2, Table Xpath + css selector\n",
    "for i in rows_table:\n",
    "    if 'Apeirian2' in i.text:\n",
    "        edit_button = i.find_element_by_css_selector(\"a[href='#edit']\")\n",
    "        highlight(edit_button, 2)"
   ]
  },
  {
   "cell_type": "code",
   "execution_count": 72,
   "metadata": {},
   "outputs": [],
   "source": [
    "#Approach 3, Table Xpath + shorthand xpath\n",
    "driver = webdriver.Chrome()\n",
    "driver.get(\"http://the-internet.herokuapp.com/challenging_dom\")\n",
    "\n",
    "html_table = driver.find_element_by_xpath(\"/html/body/div[2]/div/div/div/div/div[2]/table/tbody\")\n",
    "\n",
    "definiebas = html_table.find_element_by_xpath(\"//tr[8]/td[4]\")\n",
    "iuvaret = html_table.find_element_by_xpath(\"//tr[8]/td[1]\")\n",
    "highlight(definiebas, 2)\n",
    "highlight(iuvaret, 2)"
   ]
  },
  {
   "cell_type": "code",
   "execution_count": null,
   "metadata": {},
   "outputs": [],
   "source": [
    "#Approach 4, class name\n",
    "driver = webdriver.Chrome()\n",
    "driver.get(\"http://the-internet.herokuapp.com/challenging_dom\")\n",
    "\n",
    "driver.find_element_by_class_name('button.success').click()"
   ]
  }
 ],
 "metadata": {
  "kernelspec": {
   "display_name": "Python 3",
   "language": "python",
   "name": "python3"
  },
  "language_info": {
   "codemirror_mode": {
    "name": "ipython",
    "version": 3
   },
   "file_extension": ".py",
   "mimetype": "text/x-python",
   "name": "python",
   "nbconvert_exporter": "python",
   "pygments_lexer": "ipython3",
   "version": "3.8.3"
  }
 },
 "nbformat": 4,
 "nbformat_minor": 4
}
