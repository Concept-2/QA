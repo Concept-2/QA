{
 "cells": [
  {
   "cell_type": "code",
   "execution_count": 7,
   "metadata": {},
   "outputs": [
    {
     "name": "stdout",
     "output_type": "stream",
     "text": [
      "Element 1 = 2\n",
      "Element 2 = 3\n",
      "Element 3 = 5\n",
      "Element 4 = 7\n",
      "Element 5 = 9\n"
     ]
    }
   ],
   "source": [
    "def print_list(a_list):\n",
    "    for i in range(1, len(a_list)): #Python counts from 0, so first element is ignored\n",
    "        print('Element {} = {}'.format(str(i),str(a_list[i])))\n",
    "a_list = [1, 2, 3, 5, 7, 9]\n",
    "print_list(a_list)\n"
   ]
  },
  {
   "cell_type": "code",
   "execution_count": 8,
   "metadata": {},
   "outputs": [
    {
     "name": "stdout",
     "output_type": "stream",
     "text": [
      "Element 1 = 1\n",
      "Element 2 = 2\n",
      "Element 3 = 3\n",
      "Element 4 = 5\n",
      "Element 5 = 7\n",
      "Element 6 = 9\n"
     ]
    }
   ],
   "source": [
    "def print_list(a_list):\n",
    "    for i in range(len(a_list)): #Corrected by removing start parameter\n",
    "        print('Element {} = {}'.format(str(int(i)+1),str(a_list[i]))) #Corrected number formatting to start counting from 1\n",
    "        \n",
    "a_list = [1, 2, 3, 5, 7, 9]\n",
    "print_list(a_list)\n"
   ]
  },
  {
   "cell_type": "code",
   "execution_count": null,
   "metadata": {},
   "outputs": [],
   "source": []
  }
 ],
 "metadata": {
  "kernelspec": {
   "display_name": "Python 3",
   "language": "python",
   "name": "python3"
  },
  "language_info": {
   "codemirror_mode": {
    "name": "ipython",
    "version": 3
   },
   "file_extension": ".py",
   "mimetype": "text/x-python",
   "name": "python",
   "nbconvert_exporter": "python",
   "pygments_lexer": "ipython3",
   "version": "3.8.3"
  }
 },
 "nbformat": 4,
 "nbformat_minor": 4
}
