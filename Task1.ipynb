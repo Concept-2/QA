{
 "cells": [
  {
   "cell_type": "code",
   "execution_count": 68,
   "metadata": {},
   "outputs": [],
   "source": [
    "from selenium import webdriver\n",
    "from selenium.webdriver.common.keys import Keys\n",
    "\n",
    "driver = webdriver.Firefox()\n",
    "driver.get(\"https://www.tiketa.lt/EN/search\")\n",
    "\n",
    "caption_bar = driver.find_element_by_name(\"sf_TextFilter\")\n",
    "caption_bar.clear()\n",
    "caption_bar.send_keys(\"Forum\")\n",
    "webdriver.ActionChains(driver).send_keys(Keys.ESCAPE).perform() #Clears autocomplete window\n",
    "\n",
    "city_dropdown = driver.find_element_by_id('dropdownMenu3').click() #Clicks dropdown menu\n",
    "driver.find_element_by_xpath(\"/html/body/div[10]/div/div/div/div[2]/div/div[1]/div/form/div[2]/div[1]/div[2]/div/div/div/div/ul/li[3]/a\").click() #Selects Kaunas by xpath\n",
    "\n",
    "driver.find_element_by_name(\"sf_DateFrom\").send_keys(\"2020-09-01\")\n",
    "driver.find_element_by_name(\"sf_DateTo\").send_keys(\"2021-12-31\")\n",
    "webdriver.ActionChains(driver).send_keys(Keys.ESCAPE).perform() #Clears autocomplete window\n",
    "\n",
    "driver.find_element_by_xpath(\"/html/body/div[10]/div/div/div/div[2]/div/div[1]/div/form/div[4]/button\").click() #Clicks search by xpath\n",
    "\n",
    "city_dropdown = driver.find_element_by_id('btnBuy-23125').click() #Clicks buy button\n",
    "\n",
    "driver.find_element_by_xpath(\"/html/body/div[11]/div/div/div/div[2]/div/div[1]/div/div[3]/div[2]/div/div[4]/div/div/a\").click() #Clicks buy button\n",
    "\n",
    "#Go around captcha or work with offline webpage?"
   ]
  }
 ],
 "metadata": {
  "kernelspec": {
   "display_name": "Python 3",
   "language": "python",
   "name": "python3"
  },
  "language_info": {
   "codemirror_mode": {
    "name": "ipython",
    "version": 3
   },
   "file_extension": ".py",
   "mimetype": "text/x-python",
   "name": "python",
   "nbconvert_exporter": "python",
   "pygments_lexer": "ipython3",
   "version": "3.8.3"
  }
 },
 "nbformat": 4,
 "nbformat_minor": 4
}
